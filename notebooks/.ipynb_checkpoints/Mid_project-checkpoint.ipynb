{
 "cells": [
  {
   "cell_type": "markdown",
   "id": "ae3bed63",
   "metadata": {},
   "source": [
    "# Import Library"
   ]
  },
  {
   "cell_type": "code",
   "execution_count": 1,
   "id": "cf9db503",
   "metadata": {},
   "outputs": [],
   "source": [
    "import pandas as pd\n",
    "import matplotlib.pyplot as plt\n",
    "import seaborn as sns\n",
    "import warnings\n",
    "warnings.filterwarnings('ignore')"
   ]
  },
  {
   "cell_type": "code",
   "execution_count": null,
   "id": "462123e5",
   "metadata": {},
   "outputs": [],
   "source": []
  },
  {
   "cell_type": "markdown",
   "id": "39152a9d",
   "metadata": {},
   "source": [
    "# Load the dataset"
   ]
  },
  {
   "cell_type": "code",
   "execution_count": 2,
   "id": "0c29e899",
   "metadata": {},
   "outputs": [],
   "source": [
    "data = pd.read_csv('hotel_bookings.csv')"
   ]
  },
  {
   "cell_type": "markdown",
   "id": "ffd1ff85",
   "metadata": {},
   "source": [
    "# Exploratory Analysis and cleaning\n"
   ]
  },
  {
   "cell_type": "code",
   "execution_count": 14,
   "id": "a710f89d",
   "metadata": {},
   "outputs": [
    {
     "data": {
      "text/html": [
       "<div>\n",
       "<style scoped>\n",
       "    .dataframe tbody tr th:only-of-type {\n",
       "        vertical-align: middle;\n",
       "    }\n",
       "\n",
       "    .dataframe tbody tr th {\n",
       "        vertical-align: top;\n",
       "    }\n",
       "\n",
       "    .dataframe thead th {\n",
       "        text-align: right;\n",
       "    }\n",
       "</style>\n",
       "<table border=\"1\" class=\"dataframe\">\n",
       "  <thead>\n",
       "    <tr style=\"text-align: right;\">\n",
       "      <th></th>\n",
       "      <th>hotel</th>\n",
       "      <th>is_canceled</th>\n",
       "      <th>lead_time</th>\n",
       "      <th>arrival_date_year</th>\n",
       "      <th>arrival_date_month</th>\n",
       "      <th>arrival_date_week_number</th>\n",
       "      <th>arrival_date_day_of_month</th>\n",
       "      <th>stays_in_weekend_nights</th>\n",
       "      <th>stays_in_week_nights</th>\n",
       "      <th>adults</th>\n",
       "      <th>...</th>\n",
       "      <th>deposit_type</th>\n",
       "      <th>agent</th>\n",
       "      <th>company</th>\n",
       "      <th>days_in_waiting_list</th>\n",
       "      <th>customer_type</th>\n",
       "      <th>adr</th>\n",
       "      <th>required_car_parking_spaces</th>\n",
       "      <th>total_of_special_requests</th>\n",
       "      <th>reservation_status</th>\n",
       "      <th>reservation_status_date</th>\n",
       "    </tr>\n",
       "  </thead>\n",
       "  <tbody>\n",
       "    <tr>\n",
       "      <th>0</th>\n",
       "      <td>Resort Hotel</td>\n",
       "      <td>0</td>\n",
       "      <td>342</td>\n",
       "      <td>2015</td>\n",
       "      <td>July</td>\n",
       "      <td>27</td>\n",
       "      <td>1</td>\n",
       "      <td>0</td>\n",
       "      <td>0</td>\n",
       "      <td>2</td>\n",
       "      <td>...</td>\n",
       "      <td>No Deposit</td>\n",
       "      <td>NaN</td>\n",
       "      <td>NaN</td>\n",
       "      <td>0</td>\n",
       "      <td>Transient</td>\n",
       "      <td>0.0</td>\n",
       "      <td>0</td>\n",
       "      <td>0</td>\n",
       "      <td>Check-Out</td>\n",
       "      <td>2015-07-01</td>\n",
       "    </tr>\n",
       "    <tr>\n",
       "      <th>1</th>\n",
       "      <td>Resort Hotel</td>\n",
       "      <td>0</td>\n",
       "      <td>737</td>\n",
       "      <td>2015</td>\n",
       "      <td>July</td>\n",
       "      <td>27</td>\n",
       "      <td>1</td>\n",
       "      <td>0</td>\n",
       "      <td>0</td>\n",
       "      <td>2</td>\n",
       "      <td>...</td>\n",
       "      <td>No Deposit</td>\n",
       "      <td>NaN</td>\n",
       "      <td>NaN</td>\n",
       "      <td>0</td>\n",
       "      <td>Transient</td>\n",
       "      <td>0.0</td>\n",
       "      <td>0</td>\n",
       "      <td>0</td>\n",
       "      <td>Check-Out</td>\n",
       "      <td>2015-07-01</td>\n",
       "    </tr>\n",
       "    <tr>\n",
       "      <th>2</th>\n",
       "      <td>Resort Hotel</td>\n",
       "      <td>0</td>\n",
       "      <td>7</td>\n",
       "      <td>2015</td>\n",
       "      <td>July</td>\n",
       "      <td>27</td>\n",
       "      <td>1</td>\n",
       "      <td>0</td>\n",
       "      <td>1</td>\n",
       "      <td>1</td>\n",
       "      <td>...</td>\n",
       "      <td>No Deposit</td>\n",
       "      <td>NaN</td>\n",
       "      <td>NaN</td>\n",
       "      <td>0</td>\n",
       "      <td>Transient</td>\n",
       "      <td>75.0</td>\n",
       "      <td>0</td>\n",
       "      <td>0</td>\n",
       "      <td>Check-Out</td>\n",
       "      <td>2015-07-02</td>\n",
       "    </tr>\n",
       "    <tr>\n",
       "      <th>3</th>\n",
       "      <td>Resort Hotel</td>\n",
       "      <td>0</td>\n",
       "      <td>13</td>\n",
       "      <td>2015</td>\n",
       "      <td>July</td>\n",
       "      <td>27</td>\n",
       "      <td>1</td>\n",
       "      <td>0</td>\n",
       "      <td>1</td>\n",
       "      <td>1</td>\n",
       "      <td>...</td>\n",
       "      <td>No Deposit</td>\n",
       "      <td>304.0</td>\n",
       "      <td>NaN</td>\n",
       "      <td>0</td>\n",
       "      <td>Transient</td>\n",
       "      <td>75.0</td>\n",
       "      <td>0</td>\n",
       "      <td>0</td>\n",
       "      <td>Check-Out</td>\n",
       "      <td>2015-07-02</td>\n",
       "    </tr>\n",
       "    <tr>\n",
       "      <th>4</th>\n",
       "      <td>Resort Hotel</td>\n",
       "      <td>0</td>\n",
       "      <td>14</td>\n",
       "      <td>2015</td>\n",
       "      <td>July</td>\n",
       "      <td>27</td>\n",
       "      <td>1</td>\n",
       "      <td>0</td>\n",
       "      <td>2</td>\n",
       "      <td>2</td>\n",
       "      <td>...</td>\n",
       "      <td>No Deposit</td>\n",
       "      <td>240.0</td>\n",
       "      <td>NaN</td>\n",
       "      <td>0</td>\n",
       "      <td>Transient</td>\n",
       "      <td>98.0</td>\n",
       "      <td>0</td>\n",
       "      <td>1</td>\n",
       "      <td>Check-Out</td>\n",
       "      <td>2015-07-03</td>\n",
       "    </tr>\n",
       "  </tbody>\n",
       "</table>\n",
       "<p>5 rows × 32 columns</p>\n",
       "</div>"
      ],
      "text/plain": [
       "          hotel  is_canceled  lead_time  arrival_date_year arrival_date_month  \\\n",
       "0  Resort Hotel            0        342               2015               July   \n",
       "1  Resort Hotel            0        737               2015               July   \n",
       "2  Resort Hotel            0          7               2015               July   \n",
       "3  Resort Hotel            0         13               2015               July   \n",
       "4  Resort Hotel            0         14               2015               July   \n",
       "\n",
       "   arrival_date_week_number  arrival_date_day_of_month  \\\n",
       "0                        27                          1   \n",
       "1                        27                          1   \n",
       "2                        27                          1   \n",
       "3                        27                          1   \n",
       "4                        27                          1   \n",
       "\n",
       "   stays_in_weekend_nights  stays_in_week_nights  adults  ...  deposit_type  \\\n",
       "0                        0                     0       2  ...    No Deposit   \n",
       "1                        0                     0       2  ...    No Deposit   \n",
       "2                        0                     1       1  ...    No Deposit   \n",
       "3                        0                     1       1  ...    No Deposit   \n",
       "4                        0                     2       2  ...    No Deposit   \n",
       "\n",
       "   agent company days_in_waiting_list customer_type   adr  \\\n",
       "0    NaN     NaN                    0     Transient   0.0   \n",
       "1    NaN     NaN                    0     Transient   0.0   \n",
       "2    NaN     NaN                    0     Transient  75.0   \n",
       "3  304.0     NaN                    0     Transient  75.0   \n",
       "4  240.0     NaN                    0     Transient  98.0   \n",
       "\n",
       "   required_car_parking_spaces  total_of_special_requests  reservation_status  \\\n",
       "0                            0                          0           Check-Out   \n",
       "1                            0                          0           Check-Out   \n",
       "2                            0                          0           Check-Out   \n",
       "3                            0                          0           Check-Out   \n",
       "4                            0                          1           Check-Out   \n",
       "\n",
       "  reservation_status_date  \n",
       "0              2015-07-01  \n",
       "1              2015-07-01  \n",
       "2              2015-07-02  \n",
       "3              2015-07-02  \n",
       "4              2015-07-03  \n",
       "\n",
       "[5 rows x 32 columns]"
      ]
     },
     "execution_count": 14,
     "metadata": {},
     "output_type": "execute_result"
    }
   ],
   "source": [
    "data.head()"
   ]
  },
  {
   "cell_type": "code",
   "execution_count": 4,
   "id": "f3c5697e",
   "metadata": {},
   "outputs": [
    {
     "data": {
      "text/html": [
       "<div>\n",
       "<style scoped>\n",
       "    .dataframe tbody tr th:only-of-type {\n",
       "        vertical-align: middle;\n",
       "    }\n",
       "\n",
       "    .dataframe tbody tr th {\n",
       "        vertical-align: top;\n",
       "    }\n",
       "\n",
       "    .dataframe thead th {\n",
       "        text-align: right;\n",
       "    }\n",
       "</style>\n",
       "<table border=\"1\" class=\"dataframe\">\n",
       "  <thead>\n",
       "    <tr style=\"text-align: right;\">\n",
       "      <th></th>\n",
       "      <th>hotel</th>\n",
       "      <th>is_canceled</th>\n",
       "      <th>lead_time</th>\n",
       "      <th>arrival_date_year</th>\n",
       "      <th>arrival_date_month</th>\n",
       "      <th>arrival_date_week_number</th>\n",
       "      <th>arrival_date_day_of_month</th>\n",
       "      <th>stays_in_weekend_nights</th>\n",
       "      <th>stays_in_week_nights</th>\n",
       "      <th>adults</th>\n",
       "      <th>...</th>\n",
       "      <th>deposit_type</th>\n",
       "      <th>agent</th>\n",
       "      <th>company</th>\n",
       "      <th>days_in_waiting_list</th>\n",
       "      <th>customer_type</th>\n",
       "      <th>adr</th>\n",
       "      <th>required_car_parking_spaces</th>\n",
       "      <th>total_of_special_requests</th>\n",
       "      <th>reservation_status</th>\n",
       "      <th>reservation_status_date</th>\n",
       "    </tr>\n",
       "  </thead>\n",
       "  <tbody>\n",
       "    <tr>\n",
       "      <th>119385</th>\n",
       "      <td>City Hotel</td>\n",
       "      <td>0</td>\n",
       "      <td>23</td>\n",
       "      <td>2017</td>\n",
       "      <td>August</td>\n",
       "      <td>35</td>\n",
       "      <td>30</td>\n",
       "      <td>2</td>\n",
       "      <td>5</td>\n",
       "      <td>2</td>\n",
       "      <td>...</td>\n",
       "      <td>No Deposit</td>\n",
       "      <td>394.0</td>\n",
       "      <td>NaN</td>\n",
       "      <td>0</td>\n",
       "      <td>Transient</td>\n",
       "      <td>96.14</td>\n",
       "      <td>0</td>\n",
       "      <td>0</td>\n",
       "      <td>Check-Out</td>\n",
       "      <td>2017-09-06</td>\n",
       "    </tr>\n",
       "    <tr>\n",
       "      <th>119386</th>\n",
       "      <td>City Hotel</td>\n",
       "      <td>0</td>\n",
       "      <td>102</td>\n",
       "      <td>2017</td>\n",
       "      <td>August</td>\n",
       "      <td>35</td>\n",
       "      <td>31</td>\n",
       "      <td>2</td>\n",
       "      <td>5</td>\n",
       "      <td>3</td>\n",
       "      <td>...</td>\n",
       "      <td>No Deposit</td>\n",
       "      <td>9.0</td>\n",
       "      <td>NaN</td>\n",
       "      <td>0</td>\n",
       "      <td>Transient</td>\n",
       "      <td>225.43</td>\n",
       "      <td>0</td>\n",
       "      <td>2</td>\n",
       "      <td>Check-Out</td>\n",
       "      <td>2017-09-07</td>\n",
       "    </tr>\n",
       "    <tr>\n",
       "      <th>119387</th>\n",
       "      <td>City Hotel</td>\n",
       "      <td>0</td>\n",
       "      <td>34</td>\n",
       "      <td>2017</td>\n",
       "      <td>August</td>\n",
       "      <td>35</td>\n",
       "      <td>31</td>\n",
       "      <td>2</td>\n",
       "      <td>5</td>\n",
       "      <td>2</td>\n",
       "      <td>...</td>\n",
       "      <td>No Deposit</td>\n",
       "      <td>9.0</td>\n",
       "      <td>NaN</td>\n",
       "      <td>0</td>\n",
       "      <td>Transient</td>\n",
       "      <td>157.71</td>\n",
       "      <td>0</td>\n",
       "      <td>4</td>\n",
       "      <td>Check-Out</td>\n",
       "      <td>2017-09-07</td>\n",
       "    </tr>\n",
       "    <tr>\n",
       "      <th>119388</th>\n",
       "      <td>City Hotel</td>\n",
       "      <td>0</td>\n",
       "      <td>109</td>\n",
       "      <td>2017</td>\n",
       "      <td>August</td>\n",
       "      <td>35</td>\n",
       "      <td>31</td>\n",
       "      <td>2</td>\n",
       "      <td>5</td>\n",
       "      <td>2</td>\n",
       "      <td>...</td>\n",
       "      <td>No Deposit</td>\n",
       "      <td>89.0</td>\n",
       "      <td>NaN</td>\n",
       "      <td>0</td>\n",
       "      <td>Transient</td>\n",
       "      <td>104.40</td>\n",
       "      <td>0</td>\n",
       "      <td>0</td>\n",
       "      <td>Check-Out</td>\n",
       "      <td>2017-09-07</td>\n",
       "    </tr>\n",
       "    <tr>\n",
       "      <th>119389</th>\n",
       "      <td>City Hotel</td>\n",
       "      <td>0</td>\n",
       "      <td>205</td>\n",
       "      <td>2017</td>\n",
       "      <td>August</td>\n",
       "      <td>35</td>\n",
       "      <td>29</td>\n",
       "      <td>2</td>\n",
       "      <td>7</td>\n",
       "      <td>2</td>\n",
       "      <td>...</td>\n",
       "      <td>No Deposit</td>\n",
       "      <td>9.0</td>\n",
       "      <td>NaN</td>\n",
       "      <td>0</td>\n",
       "      <td>Transient</td>\n",
       "      <td>151.20</td>\n",
       "      <td>0</td>\n",
       "      <td>2</td>\n",
       "      <td>Check-Out</td>\n",
       "      <td>2017-09-07</td>\n",
       "    </tr>\n",
       "  </tbody>\n",
       "</table>\n",
       "<p>5 rows × 32 columns</p>\n",
       "</div>"
      ],
      "text/plain": [
       "             hotel  is_canceled  lead_time  arrival_date_year  \\\n",
       "119385  City Hotel            0         23               2017   \n",
       "119386  City Hotel            0        102               2017   \n",
       "119387  City Hotel            0         34               2017   \n",
       "119388  City Hotel            0        109               2017   \n",
       "119389  City Hotel            0        205               2017   \n",
       "\n",
       "       arrival_date_month  arrival_date_week_number  \\\n",
       "119385             August                        35   \n",
       "119386             August                        35   \n",
       "119387             August                        35   \n",
       "119388             August                        35   \n",
       "119389             August                        35   \n",
       "\n",
       "        arrival_date_day_of_month  stays_in_weekend_nights  \\\n",
       "119385                         30                        2   \n",
       "119386                         31                        2   \n",
       "119387                         31                        2   \n",
       "119388                         31                        2   \n",
       "119389                         29                        2   \n",
       "\n",
       "        stays_in_week_nights  adults  ...  deposit_type  agent company  \\\n",
       "119385                     5       2  ...    No Deposit  394.0     NaN   \n",
       "119386                     5       3  ...    No Deposit    9.0     NaN   \n",
       "119387                     5       2  ...    No Deposit    9.0     NaN   \n",
       "119388                     5       2  ...    No Deposit   89.0     NaN   \n",
       "119389                     7       2  ...    No Deposit    9.0     NaN   \n",
       "\n",
       "       days_in_waiting_list customer_type     adr  \\\n",
       "119385                    0     Transient   96.14   \n",
       "119386                    0     Transient  225.43   \n",
       "119387                    0     Transient  157.71   \n",
       "119388                    0     Transient  104.40   \n",
       "119389                    0     Transient  151.20   \n",
       "\n",
       "        required_car_parking_spaces  total_of_special_requests  \\\n",
       "119385                            0                          0   \n",
       "119386                            0                          2   \n",
       "119387                            0                          4   \n",
       "119388                            0                          0   \n",
       "119389                            0                          2   \n",
       "\n",
       "        reservation_status reservation_status_date  \n",
       "119385           Check-Out              2017-09-06  \n",
       "119386           Check-Out              2017-09-07  \n",
       "119387           Check-Out              2017-09-07  \n",
       "119388           Check-Out              2017-09-07  \n",
       "119389           Check-Out              2017-09-07  \n",
       "\n",
       "[5 rows x 32 columns]"
      ]
     },
     "execution_count": 4,
     "metadata": {},
     "output_type": "execute_result"
    }
   ],
   "source": [
    "data.tail()"
   ]
  },
  {
   "cell_type": "code",
   "execution_count": 20,
   "id": "179808cf",
   "metadata": {},
   "outputs": [
    {
     "data": {
      "text/plain": [
       "(119390, 32)"
      ]
     },
     "execution_count": 20,
     "metadata": {},
     "output_type": "execute_result"
    }
   ],
   "source": [
    "data.shape"
   ]
  },
  {
   "cell_type": "code",
   "execution_count": 27,
   "id": "810ab7d1",
   "metadata": {},
   "outputs": [
    {
     "data": {
      "text/html": [
       "<div>\n",
       "<style scoped>\n",
       "    .dataframe tbody tr th:only-of-type {\n",
       "        vertical-align: middle;\n",
       "    }\n",
       "\n",
       "    .dataframe tbody tr th {\n",
       "        vertical-align: top;\n",
       "    }\n",
       "\n",
       "    .dataframe thead th {\n",
       "        text-align: right;\n",
       "    }\n",
       "</style>\n",
       "<table border=\"1\" class=\"dataframe\">\n",
       "  <thead>\n",
       "    <tr style=\"text-align: right;\">\n",
       "      <th></th>\n",
       "      <th>count</th>\n",
       "      <th>mean</th>\n",
       "      <th>std</th>\n",
       "      <th>min</th>\n",
       "      <th>25%</th>\n",
       "      <th>50%</th>\n",
       "      <th>75%</th>\n",
       "      <th>max</th>\n",
       "    </tr>\n",
       "  </thead>\n",
       "  <tbody>\n",
       "    <tr>\n",
       "      <th>is_canceled</th>\n",
       "      <td>119390.0</td>\n",
       "      <td>0.370416</td>\n",
       "      <td>0.482918</td>\n",
       "      <td>0.00</td>\n",
       "      <td>0.00</td>\n",
       "      <td>0.000</td>\n",
       "      <td>1.0</td>\n",
       "      <td>1.0</td>\n",
       "    </tr>\n",
       "    <tr>\n",
       "      <th>lead_time</th>\n",
       "      <td>119390.0</td>\n",
       "      <td>104.011416</td>\n",
       "      <td>106.863097</td>\n",
       "      <td>0.00</td>\n",
       "      <td>18.00</td>\n",
       "      <td>69.000</td>\n",
       "      <td>160.0</td>\n",
       "      <td>737.0</td>\n",
       "    </tr>\n",
       "    <tr>\n",
       "      <th>arrival_date_year</th>\n",
       "      <td>119390.0</td>\n",
       "      <td>2016.156554</td>\n",
       "      <td>0.707476</td>\n",
       "      <td>2015.00</td>\n",
       "      <td>2016.00</td>\n",
       "      <td>2016.000</td>\n",
       "      <td>2017.0</td>\n",
       "      <td>2017.0</td>\n",
       "    </tr>\n",
       "    <tr>\n",
       "      <th>arrival_date_week_number</th>\n",
       "      <td>119390.0</td>\n",
       "      <td>27.165173</td>\n",
       "      <td>13.605138</td>\n",
       "      <td>1.00</td>\n",
       "      <td>16.00</td>\n",
       "      <td>28.000</td>\n",
       "      <td>38.0</td>\n",
       "      <td>53.0</td>\n",
       "    </tr>\n",
       "    <tr>\n",
       "      <th>arrival_date_day_of_month</th>\n",
       "      <td>119390.0</td>\n",
       "      <td>15.798241</td>\n",
       "      <td>8.780829</td>\n",
       "      <td>1.00</td>\n",
       "      <td>8.00</td>\n",
       "      <td>16.000</td>\n",
       "      <td>23.0</td>\n",
       "      <td>31.0</td>\n",
       "    </tr>\n",
       "    <tr>\n",
       "      <th>stays_in_weekend_nights</th>\n",
       "      <td>119390.0</td>\n",
       "      <td>0.927599</td>\n",
       "      <td>0.998613</td>\n",
       "      <td>0.00</td>\n",
       "      <td>0.00</td>\n",
       "      <td>1.000</td>\n",
       "      <td>2.0</td>\n",
       "      <td>19.0</td>\n",
       "    </tr>\n",
       "    <tr>\n",
       "      <th>stays_in_week_nights</th>\n",
       "      <td>119390.0</td>\n",
       "      <td>2.500302</td>\n",
       "      <td>1.908286</td>\n",
       "      <td>0.00</td>\n",
       "      <td>1.00</td>\n",
       "      <td>2.000</td>\n",
       "      <td>3.0</td>\n",
       "      <td>50.0</td>\n",
       "    </tr>\n",
       "    <tr>\n",
       "      <th>adults</th>\n",
       "      <td>119390.0</td>\n",
       "      <td>1.856403</td>\n",
       "      <td>0.579261</td>\n",
       "      <td>0.00</td>\n",
       "      <td>2.00</td>\n",
       "      <td>2.000</td>\n",
       "      <td>2.0</td>\n",
       "      <td>55.0</td>\n",
       "    </tr>\n",
       "    <tr>\n",
       "      <th>children</th>\n",
       "      <td>119386.0</td>\n",
       "      <td>0.103890</td>\n",
       "      <td>0.398561</td>\n",
       "      <td>0.00</td>\n",
       "      <td>0.00</td>\n",
       "      <td>0.000</td>\n",
       "      <td>0.0</td>\n",
       "      <td>10.0</td>\n",
       "    </tr>\n",
       "    <tr>\n",
       "      <th>babies</th>\n",
       "      <td>119390.0</td>\n",
       "      <td>0.007949</td>\n",
       "      <td>0.097436</td>\n",
       "      <td>0.00</td>\n",
       "      <td>0.00</td>\n",
       "      <td>0.000</td>\n",
       "      <td>0.0</td>\n",
       "      <td>10.0</td>\n",
       "    </tr>\n",
       "    <tr>\n",
       "      <th>is_repeated_guest</th>\n",
       "      <td>119390.0</td>\n",
       "      <td>0.031912</td>\n",
       "      <td>0.175767</td>\n",
       "      <td>0.00</td>\n",
       "      <td>0.00</td>\n",
       "      <td>0.000</td>\n",
       "      <td>0.0</td>\n",
       "      <td>1.0</td>\n",
       "    </tr>\n",
       "    <tr>\n",
       "      <th>previous_cancellations</th>\n",
       "      <td>119390.0</td>\n",
       "      <td>0.087118</td>\n",
       "      <td>0.844336</td>\n",
       "      <td>0.00</td>\n",
       "      <td>0.00</td>\n",
       "      <td>0.000</td>\n",
       "      <td>0.0</td>\n",
       "      <td>26.0</td>\n",
       "    </tr>\n",
       "    <tr>\n",
       "      <th>previous_bookings_not_canceled</th>\n",
       "      <td>119390.0</td>\n",
       "      <td>0.137097</td>\n",
       "      <td>1.497437</td>\n",
       "      <td>0.00</td>\n",
       "      <td>0.00</td>\n",
       "      <td>0.000</td>\n",
       "      <td>0.0</td>\n",
       "      <td>72.0</td>\n",
       "    </tr>\n",
       "    <tr>\n",
       "      <th>booking_changes</th>\n",
       "      <td>119390.0</td>\n",
       "      <td>0.221124</td>\n",
       "      <td>0.652306</td>\n",
       "      <td>0.00</td>\n",
       "      <td>0.00</td>\n",
       "      <td>0.000</td>\n",
       "      <td>0.0</td>\n",
       "      <td>21.0</td>\n",
       "    </tr>\n",
       "    <tr>\n",
       "      <th>days_in_waiting_list</th>\n",
       "      <td>119390.0</td>\n",
       "      <td>2.321149</td>\n",
       "      <td>17.594721</td>\n",
       "      <td>0.00</td>\n",
       "      <td>0.00</td>\n",
       "      <td>0.000</td>\n",
       "      <td>0.0</td>\n",
       "      <td>391.0</td>\n",
       "    </tr>\n",
       "    <tr>\n",
       "      <th>adr</th>\n",
       "      <td>119390.0</td>\n",
       "      <td>101.831122</td>\n",
       "      <td>50.535790</td>\n",
       "      <td>-6.38</td>\n",
       "      <td>69.29</td>\n",
       "      <td>94.575</td>\n",
       "      <td>126.0</td>\n",
       "      <td>5400.0</td>\n",
       "    </tr>\n",
       "    <tr>\n",
       "      <th>required_car_parking_spaces</th>\n",
       "      <td>119390.0</td>\n",
       "      <td>0.062518</td>\n",
       "      <td>0.245291</td>\n",
       "      <td>0.00</td>\n",
       "      <td>0.00</td>\n",
       "      <td>0.000</td>\n",
       "      <td>0.0</td>\n",
       "      <td>8.0</td>\n",
       "    </tr>\n",
       "    <tr>\n",
       "      <th>total_of_special_requests</th>\n",
       "      <td>119390.0</td>\n",
       "      <td>0.571363</td>\n",
       "      <td>0.792798</td>\n",
       "      <td>0.00</td>\n",
       "      <td>0.00</td>\n",
       "      <td>0.000</td>\n",
       "      <td>1.0</td>\n",
       "      <td>5.0</td>\n",
       "    </tr>\n",
       "  </tbody>\n",
       "</table>\n",
       "</div>"
      ],
      "text/plain": [
       "                                   count         mean         std      min  \\\n",
       "is_canceled                     119390.0     0.370416    0.482918     0.00   \n",
       "lead_time                       119390.0   104.011416  106.863097     0.00   \n",
       "arrival_date_year               119390.0  2016.156554    0.707476  2015.00   \n",
       "arrival_date_week_number        119390.0    27.165173   13.605138     1.00   \n",
       "arrival_date_day_of_month       119390.0    15.798241    8.780829     1.00   \n",
       "stays_in_weekend_nights         119390.0     0.927599    0.998613     0.00   \n",
       "stays_in_week_nights            119390.0     2.500302    1.908286     0.00   \n",
       "adults                          119390.0     1.856403    0.579261     0.00   \n",
       "children                        119386.0     0.103890    0.398561     0.00   \n",
       "babies                          119390.0     0.007949    0.097436     0.00   \n",
       "is_repeated_guest               119390.0     0.031912    0.175767     0.00   \n",
       "previous_cancellations          119390.0     0.087118    0.844336     0.00   \n",
       "previous_bookings_not_canceled  119390.0     0.137097    1.497437     0.00   \n",
       "booking_changes                 119390.0     0.221124    0.652306     0.00   \n",
       "days_in_waiting_list            119390.0     2.321149   17.594721     0.00   \n",
       "adr                             119390.0   101.831122   50.535790    -6.38   \n",
       "required_car_parking_spaces     119390.0     0.062518    0.245291     0.00   \n",
       "total_of_special_requests       119390.0     0.571363    0.792798     0.00   \n",
       "\n",
       "                                    25%       50%     75%     max  \n",
       "is_canceled                        0.00     0.000     1.0     1.0  \n",
       "lead_time                         18.00    69.000   160.0   737.0  \n",
       "arrival_date_year               2016.00  2016.000  2017.0  2017.0  \n",
       "arrival_date_week_number          16.00    28.000    38.0    53.0  \n",
       "arrival_date_day_of_month          8.00    16.000    23.0    31.0  \n",
       "stays_in_weekend_nights            0.00     1.000     2.0    19.0  \n",
       "stays_in_week_nights               1.00     2.000     3.0    50.0  \n",
       "adults                             2.00     2.000     2.0    55.0  \n",
       "children                           0.00     0.000     0.0    10.0  \n",
       "babies                             0.00     0.000     0.0    10.0  \n",
       "is_repeated_guest                  0.00     0.000     0.0     1.0  \n",
       "previous_cancellations             0.00     0.000     0.0    26.0  \n",
       "previous_bookings_not_canceled     0.00     0.000     0.0    72.0  \n",
       "booking_changes                    0.00     0.000     0.0    21.0  \n",
       "days_in_waiting_list               0.00     0.000     0.0   391.0  \n",
       "adr                               69.29    94.575   126.0  5400.0  \n",
       "required_car_parking_spaces        0.00     0.000     0.0     8.0  \n",
       "total_of_special_requests          0.00     0.000     1.0     5.0  "
      ]
     },
     "execution_count": 27,
     "metadata": {},
     "output_type": "execute_result"
    }
   ],
   "source": [
    "data.describe().T"
   ]
  },
  {
   "cell_type": "code",
   "execution_count": 23,
   "id": "6db1e259",
   "metadata": {},
   "outputs": [
    {
     "data": {
      "text/plain": [
       "'COL_NAME -> '"
      ]
     },
     "metadata": {},
     "output_type": "display_data"
    },
    {
     "data": {
      "text/plain": [
       "'hotel'"
      ]
     },
     "metadata": {},
     "output_type": "display_data"
    },
    {
     "data": {
      "text/plain": [
       "'UNIQUE_VALUES -> '"
      ]
     },
     "metadata": {},
     "output_type": "display_data"
    },
    {
     "data": {
      "text/plain": [
       "array(['Resort Hotel', 'City Hotel'], dtype=object)"
      ]
     },
     "metadata": {},
     "output_type": "display_data"
    },
    {
     "data": {
      "text/plain": [
       "'----------------------------------------------------------------------------------------------------'"
      ]
     },
     "metadata": {},
     "output_type": "display_data"
    },
    {
     "data": {
      "text/plain": [
       "'COL_NAME -> '"
      ]
     },
     "metadata": {},
     "output_type": "display_data"
    },
    {
     "data": {
      "text/plain": [
       "'arrival_date_month'"
      ]
     },
     "metadata": {},
     "output_type": "display_data"
    },
    {
     "data": {
      "text/plain": [
       "'UNIQUE_VALUES -> '"
      ]
     },
     "metadata": {},
     "output_type": "display_data"
    },
    {
     "data": {
      "text/plain": [
       "array(['July', 'August', 'September', 'October', 'November', 'December',\n",
       "       'January', 'February', 'March', 'April', 'May', 'June'],\n",
       "      dtype=object)"
      ]
     },
     "metadata": {},
     "output_type": "display_data"
    },
    {
     "data": {
      "text/plain": [
       "'----------------------------------------------------------------------------------------------------'"
      ]
     },
     "metadata": {},
     "output_type": "display_data"
    },
    {
     "data": {
      "text/plain": [
       "'COL_NAME -> '"
      ]
     },
     "metadata": {},
     "output_type": "display_data"
    },
    {
     "data": {
      "text/plain": [
       "'meal'"
      ]
     },
     "metadata": {},
     "output_type": "display_data"
    },
    {
     "data": {
      "text/plain": [
       "'UNIQUE_VALUES -> '"
      ]
     },
     "metadata": {},
     "output_type": "display_data"
    },
    {
     "data": {
      "text/plain": [
       "array(['BB', 'FB', 'HB', 'SC', 'Undefined'], dtype=object)"
      ]
     },
     "metadata": {},
     "output_type": "display_data"
    },
    {
     "data": {
      "text/plain": [
       "'----------------------------------------------------------------------------------------------------'"
      ]
     },
     "metadata": {},
     "output_type": "display_data"
    },
    {
     "data": {
      "text/plain": [
       "'COL_NAME -> '"
      ]
     },
     "metadata": {},
     "output_type": "display_data"
    },
    {
     "data": {
      "text/plain": [
       "'country'"
      ]
     },
     "metadata": {},
     "output_type": "display_data"
    },
    {
     "data": {
      "text/plain": [
       "'UNIQUE_VALUES -> '"
      ]
     },
     "metadata": {},
     "output_type": "display_data"
    },
    {
     "data": {
      "text/plain": [
       "array(['PRT', 'GBR', 'USA', 'ESP', 'IRL', 'FRA', nan, 'ROU', 'NOR', 'OMN',\n",
       "       'ARG', 'POL', 'DEU', 'BEL', 'CHE', 'CN', 'GRC', 'ITA', 'NLD',\n",
       "       'DNK', 'RUS', 'SWE', 'AUS', 'EST', 'CZE', 'BRA', 'FIN', 'MOZ',\n",
       "       'BWA', 'LUX', 'SVN', 'ALB', 'IND', 'CHN', 'MEX', 'MAR', 'UKR',\n",
       "       'SMR', 'LVA', 'PRI', 'SRB', 'CHL', 'AUT', 'BLR', 'LTU', 'TUR',\n",
       "       'ZAF', 'AGO', 'ISR', 'CYM', 'ZMB', 'CPV', 'ZWE', 'DZA', 'KOR',\n",
       "       'CRI', 'HUN', 'ARE', 'TUN', 'JAM', 'HRV', 'HKG', 'IRN', 'GEO',\n",
       "       'AND', 'GIB', 'URY', 'JEY', 'CAF', 'CYP', 'COL', 'GGY', 'KWT',\n",
       "       'NGA', 'MDV', 'VEN', 'SVK', 'FJI', 'KAZ', 'PAK', 'IDN', 'LBN',\n",
       "       'PHL', 'SEN', 'SYC', 'AZE', 'BHR', 'NZL', 'THA', 'DOM', 'MKD',\n",
       "       'MYS', 'ARM', 'JPN', 'LKA', 'CUB', 'CMR', 'BIH', 'MUS', 'COM',\n",
       "       'SUR', 'UGA', 'BGR', 'CIV', 'JOR', 'SYR', 'SGP', 'BDI', 'SAU',\n",
       "       'VNM', 'PLW', 'QAT', 'EGY', 'PER', 'MLT', 'MWI', 'ECU', 'MDG',\n",
       "       'ISL', 'UZB', 'NPL', 'BHS', 'MAC', 'TGO', 'TWN', 'DJI', 'STP',\n",
       "       'KNA', 'ETH', 'IRQ', 'HND', 'RWA', 'KHM', 'MCO', 'BGD', 'IMN',\n",
       "       'TJK', 'NIC', 'BEN', 'VGB', 'TZA', 'GAB', 'GHA', 'TMP', 'GLP',\n",
       "       'KEN', 'LIE', 'GNB', 'MNE', 'UMI', 'MYT', 'FRO', 'MMR', 'PAN',\n",
       "       'BFA', 'LBY', 'MLI', 'NAM', 'BOL', 'PRY', 'BRB', 'ABW', 'AIA',\n",
       "       'SLV', 'DMA', 'PYF', 'GUY', 'LCA', 'ATA', 'GTM', 'ASM', 'MRT',\n",
       "       'NCL', 'KIR', 'SDN', 'ATF', 'SLE', 'LAO'], dtype=object)"
      ]
     },
     "metadata": {},
     "output_type": "display_data"
    },
    {
     "data": {
      "text/plain": [
       "'----------------------------------------------------------------------------------------------------'"
      ]
     },
     "metadata": {},
     "output_type": "display_data"
    },
    {
     "data": {
      "text/plain": [
       "'COL_NAME -> '"
      ]
     },
     "metadata": {},
     "output_type": "display_data"
    },
    {
     "data": {
      "text/plain": [
       "'market_segment'"
      ]
     },
     "metadata": {},
     "output_type": "display_data"
    },
    {
     "data": {
      "text/plain": [
       "'UNIQUE_VALUES -> '"
      ]
     },
     "metadata": {},
     "output_type": "display_data"
    },
    {
     "data": {
      "text/plain": [
       "array(['Direct', 'Corporate', 'Online TA', 'Offline TA/TO',\n",
       "       'Complementary', 'Groups', 'Undefined', 'Aviation'], dtype=object)"
      ]
     },
     "metadata": {},
     "output_type": "display_data"
    },
    {
     "data": {
      "text/plain": [
       "'----------------------------------------------------------------------------------------------------'"
      ]
     },
     "metadata": {},
     "output_type": "display_data"
    },
    {
     "data": {
      "text/plain": [
       "'COL_NAME -> '"
      ]
     },
     "metadata": {},
     "output_type": "display_data"
    },
    {
     "data": {
      "text/plain": [
       "'distribution_channel'"
      ]
     },
     "metadata": {},
     "output_type": "display_data"
    },
    {
     "data": {
      "text/plain": [
       "'UNIQUE_VALUES -> '"
      ]
     },
     "metadata": {},
     "output_type": "display_data"
    },
    {
     "data": {
      "text/plain": [
       "array(['Direct', 'Corporate', 'TA/TO', 'Undefined', 'GDS'], dtype=object)"
      ]
     },
     "metadata": {},
     "output_type": "display_data"
    },
    {
     "data": {
      "text/plain": [
       "'----------------------------------------------------------------------------------------------------'"
      ]
     },
     "metadata": {},
     "output_type": "display_data"
    },
    {
     "data": {
      "text/plain": [
       "'COL_NAME -> '"
      ]
     },
     "metadata": {},
     "output_type": "display_data"
    },
    {
     "data": {
      "text/plain": [
       "'reserved_room_type'"
      ]
     },
     "metadata": {},
     "output_type": "display_data"
    },
    {
     "data": {
      "text/plain": [
       "'UNIQUE_VALUES -> '"
      ]
     },
     "metadata": {},
     "output_type": "display_data"
    },
    {
     "data": {
      "text/plain": [
       "array(['C', 'A', 'D', 'E', 'G', 'F', 'H', 'L', 'P', 'B'], dtype=object)"
      ]
     },
     "metadata": {},
     "output_type": "display_data"
    },
    {
     "data": {
      "text/plain": [
       "'----------------------------------------------------------------------------------------------------'"
      ]
     },
     "metadata": {},
     "output_type": "display_data"
    },
    {
     "data": {
      "text/plain": [
       "'COL_NAME -> '"
      ]
     },
     "metadata": {},
     "output_type": "display_data"
    },
    {
     "data": {
      "text/plain": [
       "'assigned_room_type'"
      ]
     },
     "metadata": {},
     "output_type": "display_data"
    },
    {
     "data": {
      "text/plain": [
       "'UNIQUE_VALUES -> '"
      ]
     },
     "metadata": {},
     "output_type": "display_data"
    },
    {
     "data": {
      "text/plain": [
       "array(['C', 'A', 'D', 'E', 'G', 'F', 'I', 'B', 'H', 'P', 'L', 'K'],\n",
       "      dtype=object)"
      ]
     },
     "metadata": {},
     "output_type": "display_data"
    },
    {
     "data": {
      "text/plain": [
       "'----------------------------------------------------------------------------------------------------'"
      ]
     },
     "metadata": {},
     "output_type": "display_data"
    },
    {
     "data": {
      "text/plain": [
       "'COL_NAME -> '"
      ]
     },
     "metadata": {},
     "output_type": "display_data"
    },
    {
     "data": {
      "text/plain": [
       "'deposit_type'"
      ]
     },
     "metadata": {},
     "output_type": "display_data"
    },
    {
     "data": {
      "text/plain": [
       "'UNIQUE_VALUES -> '"
      ]
     },
     "metadata": {},
     "output_type": "display_data"
    },
    {
     "data": {
      "text/plain": [
       "array(['No Deposit', 'Refundable', 'Non Refund'], dtype=object)"
      ]
     },
     "metadata": {},
     "output_type": "display_data"
    },
    {
     "data": {
      "text/plain": [
       "'----------------------------------------------------------------------------------------------------'"
      ]
     },
     "metadata": {},
     "output_type": "display_data"
    },
    {
     "data": {
      "text/plain": [
       "'COL_NAME -> '"
      ]
     },
     "metadata": {},
     "output_type": "display_data"
    },
    {
     "data": {
      "text/plain": [
       "'customer_type'"
      ]
     },
     "metadata": {},
     "output_type": "display_data"
    },
    {
     "data": {
      "text/plain": [
       "'UNIQUE_VALUES -> '"
      ]
     },
     "metadata": {},
     "output_type": "display_data"
    },
    {
     "data": {
      "text/plain": [
       "array(['Transient', 'Contract', 'Transient-Party', 'Group'], dtype=object)"
      ]
     },
     "metadata": {},
     "output_type": "display_data"
    },
    {
     "data": {
      "text/plain": [
       "'----------------------------------------------------------------------------------------------------'"
      ]
     },
     "metadata": {},
     "output_type": "display_data"
    },
    {
     "data": {
      "text/plain": [
       "'COL_NAME -> '"
      ]
     },
     "metadata": {},
     "output_type": "display_data"
    },
    {
     "data": {
      "text/plain": [
       "'reservation_status'"
      ]
     },
     "metadata": {},
     "output_type": "display_data"
    },
    {
     "data": {
      "text/plain": [
       "'UNIQUE_VALUES -> '"
      ]
     },
     "metadata": {},
     "output_type": "display_data"
    },
    {
     "data": {
      "text/plain": [
       "array(['Check-Out', 'Canceled', 'No-Show'], dtype=object)"
      ]
     },
     "metadata": {},
     "output_type": "display_data"
    },
    {
     "data": {
      "text/plain": [
       "'----------------------------------------------------------------------------------------------------'"
      ]
     },
     "metadata": {},
     "output_type": "display_data"
    },
    {
     "data": {
      "text/plain": [
       "'COL_NAME -> '"
      ]
     },
     "metadata": {},
     "output_type": "display_data"
    },
    {
     "data": {
      "text/plain": [
       "'reservation_status_date'"
      ]
     },
     "metadata": {},
     "output_type": "display_data"
    },
    {
     "data": {
      "text/plain": [
       "'UNIQUE_VALUES -> '"
      ]
     },
     "metadata": {},
     "output_type": "display_data"
    },
    {
     "data": {
      "text/plain": [
       "array(['2015-07-01', '2015-07-02', '2015-07-03', '2015-05-06',\n",
       "       '2015-04-22', '2015-06-23', '2015-07-05', '2015-07-06',\n",
       "       '2015-07-07', '2015-07-08', '2015-05-11', '2015-07-15',\n",
       "       '2015-07-16', '2015-05-29', '2015-05-19', '2015-06-19',\n",
       "       '2015-05-23', '2015-05-18', '2015-07-09', '2015-06-02',\n",
       "       '2015-07-13', '2015-07-04', '2015-06-29', '2015-06-16',\n",
       "       '2015-06-18', '2015-06-12', '2015-06-09', '2015-05-26',\n",
       "       '2015-07-11', '2015-07-12', '2015-07-17', '2015-04-15',\n",
       "       '2015-05-13', '2015-07-10', '2015-05-20', '2015-05-12',\n",
       "       '2015-07-14', '2015-06-17', '2015-05-01', '2015-03-30',\n",
       "       '2015-07-19', '2015-06-03', '2015-06-26', '2015-05-14',\n",
       "       '2015-07-20', '2015-05-07', '2015-05-28', '2015-04-13',\n",
       "       '2015-03-25', '2015-07-21', '2015-06-27', '2015-07-18',\n",
       "       '2015-07-23', '2015-06-08', '2015-06-22', '2015-06-24',\n",
       "       '2015-03-05', '2015-06-01', '2015-04-24', '2015-07-22',\n",
       "       '2015-05-27', '2015-04-06', '2015-04-11', '2015-07-25',\n",
       "       '2015-07-28', '2015-07-29', '2015-06-25', '2015-07-24',\n",
       "       '2015-06-05', '2015-06-30', '2015-06-13', '2015-06-11',\n",
       "       '2015-07-30', '2015-07-27', '2015-04-29', '2015-06-04',\n",
       "       '2015-07-26', '2015-08-01', '2015-08-02', '2015-06-15',\n",
       "       '2015-04-23', '2015-07-31', '2015-05-25', '2015-08-03',\n",
       "       '2015-04-17', '2015-08-04', '2015-08-06', '2015-05-15',\n",
       "       '2015-05-09', '2015-03-17', '2015-05-22', '2015-08-07',\n",
       "       '2015-04-04', '2015-08-05', '2015-08-08', '2015-08-10',\n",
       "       '2015-05-04', '2015-06-06', '2015-08-09', '2015-08-15',\n",
       "       '2015-08-11', '2015-03-28', '2015-08-14', '2015-08-12',\n",
       "       '2015-08-16', '2015-05-16', '2015-08-21', '2015-08-13',\n",
       "       '2015-08-17', '2015-04-20', '2015-08-18', '2015-08-23',\n",
       "       '2015-08-22', '2015-08-19', '2015-08-20', '2015-08-29',\n",
       "       '2015-03-31', '2015-05-30', '2015-08-25', '2015-04-14',\n",
       "       '2015-08-24', '2015-03-24', '2015-05-21', '2015-08-28',\n",
       "       '2015-08-26', '2015-08-27', '2015-08-30', '2015-08-31',\n",
       "       '2015-09-06', '2015-09-03', '2015-09-04', '2015-09-02',\n",
       "       '2015-09-01', '2015-09-05', '2015-06-20', '2015-09-07',\n",
       "       '2015-09-10', '2015-09-11', '2015-09-08', '2015-09-09',\n",
       "       '2015-09-13', '2015-09-15', '2015-04-10', '2015-01-02',\n",
       "       '2014-11-18', '2015-09-12', '2015-09-17', '2015-09-14',\n",
       "       '2015-04-07', '2015-09-19', '2015-09-16', '2015-09-20',\n",
       "       '2015-01-18', '2015-10-23', '2015-01-22', '2015-01-01',\n",
       "       '2015-09-22', '2015-09-24', '2015-09-18', '2015-09-21',\n",
       "       '2015-09-30', '2015-09-25', '2015-09-27', '2015-09-28',\n",
       "       '2015-10-12', '2015-09-29', '2015-09-23', '2015-10-01',\n",
       "       '2015-09-26', '2015-04-18', '2015-10-02', '2015-10-04',\n",
       "       '2015-10-08', '2015-10-03', '2015-10-07', '2015-10-09',\n",
       "       '2015-10-11', '2015-10-05', '2015-10-06', '2015-10-10',\n",
       "       '2015-10-14', '2015-10-15', '2015-10-18', '2015-10-13',\n",
       "       '2015-10-20', '2015-10-19', '2015-10-31', '2015-10-16',\n",
       "       '2015-10-21', '2015-10-22', '2015-10-17', '2015-10-24',\n",
       "       '2015-10-25', '2015-10-28', '2015-10-27', '2015-10-26',\n",
       "       '2015-10-30', '2015-11-05', '2015-10-29', '2015-11-03',\n",
       "       '2015-11-07', '2015-11-04', '2015-11-01', '2015-11-02',\n",
       "       '2015-11-17', '2015-11-06', '2015-11-10', '2015-11-08',\n",
       "       '2015-11-09', '2015-11-15', '2015-11-16', '2015-11-11',\n",
       "       '2015-11-12', '2015-11-14', '2015-11-13', '2015-11-18',\n",
       "       '2015-11-22', '2015-11-19', '2015-11-21', '2015-11-20',\n",
       "       '2015-11-24', '2015-11-25', '2015-11-23', '2015-11-28',\n",
       "       '2015-11-26', '2015-11-27', '2015-11-29', '2015-12-04',\n",
       "       '2015-12-01', '2015-12-06', '2015-12-08', '2015-12-02',\n",
       "       '2015-12-03', '2015-12-31', '2015-12-05', '2015-12-10',\n",
       "       '2015-12-17', '2015-11-30', '2015-12-12', '2015-12-07',\n",
       "       '2016-01-05', '2015-12-11', '2015-12-13', '2015-12-15',\n",
       "       '2015-12-16', '2015-12-19', '2015-12-18', '2015-12-26',\n",
       "       '2015-12-27', '2015-12-22', '2015-12-23', '2015-12-24',\n",
       "       '2015-12-29', '2015-12-28', '2015-12-20', '2015-12-30',\n",
       "       '2016-01-02', '2016-01-01', '2015-12-25', '2016-01-03',\n",
       "       '2016-01-04', '2016-01-11', '2016-01-07', '2015-12-21',\n",
       "       '2016-01-09', '2016-01-10', '2016-01-08', '2016-01-06',\n",
       "       '2016-01-12', '2016-01-13', '2016-01-23', '2016-02-09',\n",
       "       '2016-01-15', '2016-01-16', '2016-01-17', '2016-01-19',\n",
       "       '2016-01-18', '2016-01-21', '2016-01-24', '2016-01-22',\n",
       "       '2016-01-29', '2016-01-27', '2016-01-25', '2016-03-08',\n",
       "       '2016-01-26', '2016-01-20', '2016-01-30', '2016-02-01',\n",
       "       '2016-02-02', '2016-02-08', '2016-02-07', '2016-01-28',\n",
       "       '2016-02-05', '2016-02-03', '2016-02-13', '2016-02-10',\n",
       "       '2016-02-04', '2016-02-12', '2016-02-11', '2016-02-16',\n",
       "       '2016-02-14', '2016-02-15', '2016-02-20', '2016-02-06',\n",
       "       '2016-01-14', '2016-02-17', '2016-02-21', '2016-02-24',\n",
       "       '2016-02-25', '2016-02-19', '2016-02-18', '2016-02-26',\n",
       "       '2016-02-23', '2016-03-05', '2016-02-22', '2016-02-27',\n",
       "       '2016-03-03', '2016-03-24', '2016-03-04', '2016-02-29',\n",
       "       '2016-03-01', '2016-03-02', '2016-03-30', '2016-03-07',\n",
       "       '2016-03-14', '2016-03-21', '2016-03-09', '2016-03-12',\n",
       "       '2016-03-22', '2016-03-10', '2016-03-11', '2016-03-20',\n",
       "       '2016-03-15', '2016-03-17', '2016-03-16', '2016-03-19',\n",
       "       '2016-03-27', '2016-03-18', '2016-03-26', '2016-03-31',\n",
       "       '2016-03-28', '2016-03-29', '2016-04-01', '2016-03-23',\n",
       "       '2016-04-02', '2016-03-25', '2016-03-13', '2016-04-04',\n",
       "       '2016-04-03', '2016-04-05', '2016-04-08', '2016-04-06',\n",
       "       '2016-04-09', '2016-04-12', '2016-04-16', '2016-04-17',\n",
       "       '2016-04-27', '2016-04-14', '2016-04-18', '2016-04-21',\n",
       "       '2016-04-19', '2016-04-20', '2016-04-10', '2016-04-13',\n",
       "       '2016-04-11', '2016-04-07', '2016-04-15', '2016-04-22',\n",
       "       '2016-04-23', '2016-04-26', '2016-04-28', '2016-04-24',\n",
       "       '2016-04-25', '2016-04-29', '2016-04-30', '2016-05-01',\n",
       "       '2016-05-10', '2016-05-02', '2016-05-07', '2016-05-08',\n",
       "       '2016-05-12', '2016-05-04', '2016-05-06', '2016-05-03',\n",
       "       '2016-05-09', '2016-05-05', '2016-05-13', '2016-05-14',\n",
       "       '2016-05-18', '2016-05-19', '2016-05-15', '2016-05-16',\n",
       "       '2016-05-11', '2016-05-21', '2016-05-22', '2016-05-20',\n",
       "       '2016-05-24', '2016-05-25', '2016-05-26', '2016-05-23',\n",
       "       '2016-05-27', '2016-05-17', '2016-05-29', '2016-05-28',\n",
       "       '2016-05-30', '2016-05-31', '2016-06-01', '2016-06-03',\n",
       "       '2016-06-08', '2016-06-02', '2016-06-05', '2016-06-06',\n",
       "       '2016-06-13', '2016-06-07', '2016-06-10', '2016-06-11',\n",
       "       '2016-06-16', '2016-06-12', '2016-06-14', '2016-06-17',\n",
       "       '2016-06-04', '2016-06-18', '2016-06-21', '2016-06-09',\n",
       "       '2016-06-24', '2016-06-20', '2016-06-25', '2016-06-22',\n",
       "       '2016-06-26', '2016-06-23', '2016-07-01', '2016-06-15',\n",
       "       '2016-06-28', '2016-07-02', '2016-06-19', '2016-06-27',\n",
       "       '2016-07-04', '2016-06-30', '2016-07-05', '2016-07-08',\n",
       "       '2016-07-09', '2016-07-07', '2016-07-12', '2016-06-29',\n",
       "       '2016-07-10', '2016-07-15', '2016-07-03', '2016-07-16',\n",
       "       '2016-07-14', '2016-07-18', '2016-07-13', '2016-07-06',\n",
       "       '2016-07-20', '2016-07-21', '2016-07-23', '2016-07-19',\n",
       "       '2016-07-11', '2016-07-28', '2016-07-17', '2016-07-25',\n",
       "       '2016-07-22', '2016-07-29', '2016-08-03', '2016-08-02',\n",
       "       '2016-08-04', '2016-08-08', '2016-08-10', '2016-08-01',\n",
       "       '2016-08-06', '2016-03-06', '2016-08-05', '2016-07-26',\n",
       "       '2016-08-07', '2016-07-30', '2016-07-24', '2016-08-12',\n",
       "       '2016-07-27', '2016-08-13', '2016-08-18', '2016-08-16',\n",
       "       '2016-08-15', '2016-08-17', '2016-08-11', '2016-07-31',\n",
       "       '2016-08-19', '2016-09-01', '2016-08-23', '2016-08-26',\n",
       "       '2016-08-20', '2016-08-21', '2016-09-04', '2016-08-22',\n",
       "       '2016-08-27', '2016-08-25', '2016-08-09', '2016-09-05',\n",
       "       '2016-08-24', '2016-09-10', '2016-08-29', '2016-09-09',\n",
       "       '2016-08-30', '2016-09-13', '2016-08-31', '2016-09-14',\n",
       "       '2016-09-12', '2016-09-15', '2016-08-14', '2016-09-02',\n",
       "       '2016-09-08', '2016-09-19', '2016-09-16', '2016-09-07',\n",
       "       '2016-09-21', '2016-09-06', '2016-09-22', '2016-09-17',\n",
       "       '2016-09-20', '2016-09-03', '2016-09-26', '2016-09-23',\n",
       "       '2016-09-18', '2016-09-29', '2016-10-02', '2016-10-01',\n",
       "       '2016-09-27', '2016-09-25', '2016-10-05', '2016-09-11',\n",
       "       '2016-09-30', '2016-10-09', '2016-10-03', '2016-10-06',\n",
       "       '2016-10-11', '2016-09-24', '2016-10-13', '2016-09-28',\n",
       "       '2016-10-08', '2016-10-07', '2016-10-16', '2016-08-28',\n",
       "       '2016-10-17', '2016-10-18', '2016-10-10', '2016-10-04',\n",
       "       '2016-10-15', '2016-10-19', '2016-10-21', '2016-10-12',\n",
       "       '2016-10-24', '2016-10-26', '2016-10-23', '2016-10-20',\n",
       "       '2016-10-25', '2016-10-27', '2016-10-28', '2016-10-30',\n",
       "       '2016-10-29', '2016-11-01', '2016-11-04', '2016-10-14',\n",
       "       '2016-11-07', '2016-11-03', '2016-11-10', '2016-11-14',\n",
       "       '2016-11-02', '2016-10-31', '2016-11-11', '2016-11-08',\n",
       "       '2016-11-05', '2016-11-25', '2016-11-09', '2016-11-20',\n",
       "       '2016-11-21', '2016-10-22', '2016-11-22', '2016-11-16',\n",
       "       '2016-11-23', '2016-11-17', '2016-11-06', '2016-11-15',\n",
       "       '2016-11-13', '2016-11-12', '2016-11-27', '2016-11-19',\n",
       "       '2016-11-30', '2016-11-18', '2016-12-02', '2016-12-04',\n",
       "       '2016-11-29', '2016-12-07', '2016-11-28', '2016-12-03',\n",
       "       '2016-12-06', '2016-11-24', '2016-12-08', '2016-12-05',\n",
       "       '2016-12-10', '2016-12-13', '2016-12-14', '2016-12-16',\n",
       "       '2016-12-15', '2016-12-17', '2016-12-19', '2016-12-21',\n",
       "       '2016-12-20', '2016-12-22', '2016-12-23', '2016-12-24',\n",
       "       '2016-12-01', '2016-12-27', '2016-12-29', '2016-12-30',\n",
       "       '2016-12-12', '2017-01-02', '2016-12-11', '2017-01-03',\n",
       "       '2017-01-04', '2017-01-01', '2016-12-26', '2017-01-06',\n",
       "       '2016-12-28', '2016-12-18', '2017-01-10', '2017-01-11',\n",
       "       '2017-01-07', '2017-01-12', '2017-01-16', '2017-01-14',\n",
       "       '2017-01-13', '2017-01-05', '2017-01-17', '2017-01-20',\n",
       "       '2016-12-09', '2017-01-26', '2016-12-31', '2017-01-23',\n",
       "       '2017-01-27', '2017-01-28', '2017-01-19', '2017-01-25',\n",
       "       '2017-01-24', '2017-01-29', '2017-01-18', '2016-12-25',\n",
       "       '2017-01-15', '2017-01-21', '2017-02-01', '2017-02-02',\n",
       "       '2017-01-31', '2017-02-03', '2017-02-04', '2017-02-06',\n",
       "       '2017-02-07', '2017-02-08', '2017-01-30', '2017-02-09',\n",
       "       '2017-01-09', '2017-02-11', '2017-02-10', '2017-02-12',\n",
       "       '2017-02-13', '2017-02-14', '2017-02-16', '2017-02-17',\n",
       "       '2017-02-18', '2017-02-19', '2017-02-20', '2017-02-15',\n",
       "       '2017-02-21', '2017-02-22', '2017-02-26', '2017-02-23',\n",
       "       '2017-02-24', '2017-02-25', '2017-02-28', '2017-03-05',\n",
       "       '2017-02-27', '2017-03-03', '2017-03-06', '2017-03-02',\n",
       "       '2017-03-08', '2017-03-09', '2017-03-10', '2017-03-07',\n",
       "       '2017-03-12', '2017-03-13', '2017-03-14', '2017-03-01',\n",
       "       '2017-03-18', '2017-03-17', '2017-03-24', '2017-03-22',\n",
       "       '2017-03-26', '2017-03-27', '2017-03-11', '2017-03-28',\n",
       "       '2017-03-29', '2017-03-30', '2017-03-31', '2017-03-19',\n",
       "       '2017-01-22', '2017-04-02', '2017-03-20', '2017-04-03',\n",
       "       '2017-01-08', '2017-03-23', '2017-04-05', '2017-02-05',\n",
       "       '2017-04-04', '2017-03-15', '2017-04-07', '2017-03-25',\n",
       "       '2017-04-08', '2017-04-06', '2017-03-21', '2017-04-10',\n",
       "       '2017-04-01', '2017-04-11', '2017-04-13', '2017-04-15',\n",
       "       '2017-04-12', '2017-03-04', '2017-04-19', '2017-04-22',\n",
       "       '2017-04-20', '2017-05-02', '2017-04-09', '2017-04-23',\n",
       "       '2017-04-24', '2017-04-16', '2017-04-28', '2017-04-18',\n",
       "       '2017-04-26', '2017-04-25', '2017-04-17', '2017-04-21',\n",
       "       '2017-05-03', '2017-05-04', '2017-03-16', '2017-05-05',\n",
       "       '2017-04-29', '2017-04-14', '2017-05-08', '2017-04-27',\n",
       "       '2017-05-11', '2017-05-01', '2017-05-10', '2017-05-13',\n",
       "       '2017-05-06', '2017-05-14', '2017-05-16', '2017-04-30',\n",
       "       '2017-05-15', '2017-05-07', '2017-05-09', '2017-05-17',\n",
       "       '2017-05-21', '2017-05-12', '2017-05-22', '2017-05-24',\n",
       "       '2017-05-23', '2017-05-25', '2017-05-26', '2017-05-28',\n",
       "       '2017-05-27', '2017-05-29', '2017-05-19', '2017-05-31',\n",
       "       '2017-05-20', '2017-06-01', '2017-05-30', '2017-06-02',\n",
       "       '2016-11-26', '2017-06-04', '2017-06-05', '2017-06-06',\n",
       "       '2017-06-07', '2017-05-18', '2017-06-09', '2017-06-10',\n",
       "       '2017-06-11', '2017-06-12', '2017-06-14', '2017-06-08',\n",
       "       '2017-06-16', '2017-06-13', '2017-06-03', '2017-06-24',\n",
       "       '2017-06-20', '2017-06-19', '2017-06-21', '2017-06-26',\n",
       "       '2017-06-27', '2017-06-22', '2017-06-28', '2017-06-15',\n",
       "       '2017-06-29', '2017-06-30', '2017-06-18', '2017-07-04',\n",
       "       '2017-07-08', '2017-07-05', '2017-07-03', '2017-07-07',\n",
       "       '2017-07-01', '2017-07-06', '2017-07-11', '2017-07-12',\n",
       "       '2017-06-23', '2017-07-13', '2017-07-02', '2017-07-10',\n",
       "       '2017-07-14', '2017-07-15', '2017-07-16', '2017-07-18',\n",
       "       '2017-07-17', '2017-07-19', '2017-07-20', '2017-07-21',\n",
       "       '2017-06-25', '2017-06-17', '2017-07-24', '2017-07-26',\n",
       "       '2017-07-09', '2017-07-27', '2017-07-28', '2017-07-31',\n",
       "       '2017-07-29', '2017-07-22', '2017-08-02', '2017-08-01',\n",
       "       '2017-08-03', '2017-08-04', '2017-07-25', '2017-07-23',\n",
       "       '2017-08-09', '2017-08-10', '2017-07-30', '2017-08-07',\n",
       "       '2017-08-13', '2017-08-05', '2017-08-14', '2017-08-08',\n",
       "       '2017-08-16', '2017-08-17', '2017-08-15', '2017-08-18',\n",
       "       '2017-08-20', '2017-08-22', '2017-08-06', '2017-08-25',\n",
       "       '2017-08-26', '2017-08-23', '2017-08-11', '2017-08-27',\n",
       "       '2017-08-21', '2017-08-29', '2017-08-31', '2017-08-12',\n",
       "       '2017-08-19', '2016-01-31', '2017-09-01', '2017-08-28',\n",
       "       '2015-04-03', '2015-01-21', '2015-01-28', '2015-01-29',\n",
       "       '2015-01-30', '2015-02-02', '2015-02-05', '2015-02-06',\n",
       "       '2015-02-09', '2015-02-10', '2015-02-11', '2015-02-12',\n",
       "       '2015-02-19', '2015-02-20', '2015-02-23', '2015-02-24',\n",
       "       '2015-02-25', '2015-02-26', '2015-02-27', '2015-03-03',\n",
       "       '2015-03-04', '2015-03-06', '2015-03-09', '2015-03-11',\n",
       "       '2015-03-12', '2015-03-18', '2015-04-02', '2015-06-14',\n",
       "       '2015-04-08', '2015-04-16', '2015-04-25', '2015-04-28',\n",
       "       '2015-05-08', '2017-09-06', '2016-02-28', '2015-12-09',\n",
       "       '2015-12-14', '2017-09-09', '2017-09-02', '2017-08-24',\n",
       "       '2017-08-30', '2017-09-03', '2017-09-04', '2017-09-05',\n",
       "       '2017-09-07', '2017-09-08', '2017-09-10', '2017-09-12',\n",
       "       '2017-09-14', '2015-04-30', '2015-04-21', '2015-04-05',\n",
       "       '2015-03-13', '2015-05-05', '2015-03-29', '2015-06-10',\n",
       "       '2015-04-27', '2014-10-17', '2015-01-20', '2015-02-17',\n",
       "       '2015-03-10', '2015-03-23'], dtype=object)"
      ]
     },
     "metadata": {},
     "output_type": "display_data"
    },
    {
     "data": {
      "text/plain": [
       "'----------------------------------------------------------------------------------------------------'"
      ]
     },
     "metadata": {},
     "output_type": "display_data"
    }
   ],
   "source": [
    "for col in data.describe(include='object').columns:\n",
    "    display(\"COL_NAME -> \", col)\n",
    "    display(\"UNIQUE_VALUES -> \", data[col].unique())\n",
    "    display('----------------------------------------------------------------------------------------------------')"
   ]
  },
  {
   "cell_type": "code",
   "execution_count": 7,
   "id": "2cde7246",
   "metadata": {},
   "outputs": [
    {
     "data": {
      "text/plain": [
       "3820480"
      ]
     },
     "execution_count": 7,
     "metadata": {},
     "output_type": "execute_result"
    }
   ],
   "source": [
    "data.size"
   ]
  },
  {
   "cell_type": "code",
   "execution_count": 9,
   "id": "6b59a335",
   "metadata": {},
   "outputs": [
    {
     "data": {
      "text/plain": [
       "Index(['hotel', 'is_canceled', 'lead_time', 'arrival_date_year',\n",
       "       'arrival_date_month', 'arrival_date_week_number',\n",
       "       'arrival_date_day_of_month', 'stays_in_weekend_nights',\n",
       "       'stays_in_week_nights', 'adults', 'children', 'babies', 'meal',\n",
       "       'country', 'market_segment', 'distribution_channel',\n",
       "       'is_repeated_guest', 'previous_cancellations',\n",
       "       'previous_bookings_not_canceled', 'reserved_room_type',\n",
       "       'assigned_room_type', 'booking_changes', 'deposit_type', 'agent',\n",
       "       'company', 'days_in_waiting_list', 'customer_type', 'adr',\n",
       "       'required_car_parking_spaces', 'total_of_special_requests',\n",
       "       'reservation_status', 'reservation_status_date'],\n",
       "      dtype='object')"
      ]
     },
     "execution_count": 9,
     "metadata": {},
     "output_type": "execute_result"
    }
   ],
   "source": [
    "data.columns"
   ]
  },
  {
   "cell_type": "code",
   "execution_count": 21,
   "id": "ed80e18a",
   "metadata": {},
   "outputs": [
    {
     "name": "stdout",
     "output_type": "stream",
     "text": [
      "<class 'pandas.core.frame.DataFrame'>\n",
      "RangeIndex: 119390 entries, 0 to 119389\n",
      "Data columns (total 32 columns):\n",
      " #   Column                          Non-Null Count   Dtype  \n",
      "---  ------                          --------------   -----  \n",
      " 0   hotel                           119390 non-null  object \n",
      " 1   is_canceled                     119390 non-null  int64  \n",
      " 2   lead_time                       119390 non-null  int64  \n",
      " 3   arrival_date_year               119390 non-null  int64  \n",
      " 4   arrival_date_month              119390 non-null  object \n",
      " 5   arrival_date_week_number        119390 non-null  int64  \n",
      " 6   arrival_date_day_of_month       119390 non-null  int64  \n",
      " 7   stays_in_weekend_nights         119390 non-null  int64  \n",
      " 8   stays_in_week_nights            119390 non-null  int64  \n",
      " 9   adults                          119390 non-null  int64  \n",
      " 10  children                        119386 non-null  float64\n",
      " 11  babies                          119390 non-null  int64  \n",
      " 12  meal                            119390 non-null  object \n",
      " 13  country                         118902 non-null  object \n",
      " 14  market_segment                  119390 non-null  object \n",
      " 15  distribution_channel            119390 non-null  object \n",
      " 16  is_repeated_guest               119390 non-null  int64  \n",
      " 17  previous_cancellations          119390 non-null  int64  \n",
      " 18  previous_bookings_not_canceled  119390 non-null  int64  \n",
      " 19  reserved_room_type              119390 non-null  object \n",
      " 20  assigned_room_type              119390 non-null  object \n",
      " 21  booking_changes                 119390 non-null  int64  \n",
      " 22  deposit_type                    119390 non-null  object \n",
      " 23  agent                           103050 non-null  float64\n",
      " 24  company                         6797 non-null    float64\n",
      " 25  days_in_waiting_list            119390 non-null  int64  \n",
      " 26  customer_type                   119390 non-null  object \n",
      " 27  adr                             119390 non-null  float64\n",
      " 28  required_car_parking_spaces     119390 non-null  int64  \n",
      " 29  total_of_special_requests       119390 non-null  int64  \n",
      " 30  reservation_status              119390 non-null  object \n",
      " 31  reservation_status_date         119390 non-null  object \n",
      "dtypes: float64(4), int64(16), object(12)\n",
      "memory usage: 29.1+ MB\n"
     ]
    }
   ],
   "source": [
    "data.info()"
   ]
  },
  {
   "cell_type": "code",
   "execution_count": 29,
   "id": "e3318aca",
   "metadata": {},
   "outputs": [],
   "source": [
    "data['reservation_status_date'] = pd.to_datetime(data['reservation_status_date'])"
   ]
  },
  {
   "cell_type": "code",
   "execution_count": 30,
   "id": "c3a4c1c7",
   "metadata": {},
   "outputs": [
    {
     "name": "stdout",
     "output_type": "stream",
     "text": [
      "<class 'pandas.core.frame.DataFrame'>\n",
      "RangeIndex: 119390 entries, 0 to 119389\n",
      "Data columns (total 30 columns):\n",
      " #   Column                          Non-Null Count   Dtype         \n",
      "---  ------                          --------------   -----         \n",
      " 0   hotel                           119390 non-null  object        \n",
      " 1   is_canceled                     119390 non-null  int64         \n",
      " 2   lead_time                       119390 non-null  int64         \n",
      " 3   arrival_date_year               119390 non-null  int64         \n",
      " 4   arrival_date_month              119390 non-null  object        \n",
      " 5   arrival_date_week_number        119390 non-null  int64         \n",
      " 6   arrival_date_day_of_month       119390 non-null  int64         \n",
      " 7   stays_in_weekend_nights         119390 non-null  int64         \n",
      " 8   stays_in_week_nights            119390 non-null  int64         \n",
      " 9   adults                          119390 non-null  int64         \n",
      " 10  children                        119386 non-null  float64       \n",
      " 11  babies                          119390 non-null  int64         \n",
      " 12  meal                            119390 non-null  object        \n",
      " 13  country                         118902 non-null  object        \n",
      " 14  market_segment                  119390 non-null  object        \n",
      " 15  distribution_channel            119390 non-null  object        \n",
      " 16  is_repeated_guest               119390 non-null  int64         \n",
      " 17  previous_cancellations          119390 non-null  int64         \n",
      " 18  previous_bookings_not_canceled  119390 non-null  int64         \n",
      " 19  reserved_room_type              119390 non-null  object        \n",
      " 20  assigned_room_type              119390 non-null  object        \n",
      " 21  booking_changes                 119390 non-null  int64         \n",
      " 22  deposit_type                    119390 non-null  object        \n",
      " 23  days_in_waiting_list            119390 non-null  int64         \n",
      " 24  customer_type                   119390 non-null  object        \n",
      " 25  adr                             119390 non-null  float64       \n",
      " 26  required_car_parking_spaces     119390 non-null  int64         \n",
      " 27  total_of_special_requests       119390 non-null  int64         \n",
      " 28  reservation_status              119390 non-null  object        \n",
      " 29  reservation_status_date         119390 non-null  datetime64[ns]\n",
      "dtypes: datetime64[ns](1), float64(2), int64(16), object(11)\n",
      "memory usage: 27.3+ MB\n"
     ]
    }
   ],
   "source": [
    "data.info()"
   ]
  },
  {
   "cell_type": "code",
   "execution_count": 11,
   "id": "ca0f69cd",
   "metadata": {},
   "outputs": [
    {
     "data": {
      "text/plain": [
       "hotel                                  0\n",
       "is_canceled                            0\n",
       "lead_time                              0\n",
       "arrival_date_year                      0\n",
       "arrival_date_month                     0\n",
       "arrival_date_week_number               0\n",
       "arrival_date_day_of_month              0\n",
       "stays_in_weekend_nights                0\n",
       "stays_in_week_nights                   0\n",
       "adults                                 0\n",
       "children                               4\n",
       "babies                                 0\n",
       "meal                                   0\n",
       "country                              488\n",
       "market_segment                         0\n",
       "distribution_channel                   0\n",
       "is_repeated_guest                      0\n",
       "previous_cancellations                 0\n",
       "previous_bookings_not_canceled         0\n",
       "reserved_room_type                     0\n",
       "assigned_room_type                     0\n",
       "booking_changes                        0\n",
       "deposit_type                           0\n",
       "agent                              16340\n",
       "company                           112593\n",
       "days_in_waiting_list                   0\n",
       "customer_type                          0\n",
       "adr                                    0\n",
       "required_car_parking_spaces            0\n",
       "total_of_special_requests              0\n",
       "reservation_status                     0\n",
       "reservation_status_date                0\n",
       "dtype: int64"
      ]
     },
     "execution_count": 11,
     "metadata": {},
     "output_type": "execute_result"
    }
   ],
   "source": [
    "data.isnull().sum()"
   ]
  },
  {
   "cell_type": "code",
   "execution_count": 24,
   "id": "a693941f",
   "metadata": {},
   "outputs": [],
   "source": [
    "columns_to_drop = ['agent', 'company']\n",
    "data = data.drop(columns=columns_to_drop)"
   ]
  },
  {
   "cell_type": "code",
   "execution_count": 26,
   "id": "59faf7d1",
   "metadata": {},
   "outputs": [
    {
     "data": {
      "text/plain": [
       "hotel                               0\n",
       "is_canceled                         0\n",
       "lead_time                           0\n",
       "arrival_date_year                   0\n",
       "arrival_date_month                  0\n",
       "arrival_date_week_number            0\n",
       "arrival_date_day_of_month           0\n",
       "stays_in_weekend_nights             0\n",
       "stays_in_week_nights                0\n",
       "adults                              0\n",
       "children                            4\n",
       "babies                              0\n",
       "meal                                0\n",
       "country                           488\n",
       "market_segment                      0\n",
       "distribution_channel                0\n",
       "is_repeated_guest                   0\n",
       "previous_cancellations              0\n",
       "previous_bookings_not_canceled      0\n",
       "reserved_room_type                  0\n",
       "assigned_room_type                  0\n",
       "booking_changes                     0\n",
       "deposit_type                        0\n",
       "days_in_waiting_list                0\n",
       "customer_type                       0\n",
       "adr                                 0\n",
       "required_car_parking_spaces         0\n",
       "total_of_special_requests           0\n",
       "reservation_status                  0\n",
       "reservation_status_date             0\n",
       "dtype: int64"
      ]
     },
     "execution_count": 26,
     "metadata": {},
     "output_type": "execute_result"
    }
   ],
   "source": [
    "data.isnull().sum()"
   ]
  },
  {
   "cell_type": "code",
   "execution_count": null,
   "id": "b42f4af1",
   "metadata": {},
   "outputs": [],
   "source": [
    "data[data.duplicated()]"
   ]
  },
  {
   "cell_type": "code",
   "execution_count": null,
   "id": "aba53000",
   "metadata": {},
   "outputs": [],
   "source": []
  }
 ],
 "metadata": {
  "kernelspec": {
   "display_name": "venv",
   "language": "python",
   "name": "venv"
  },
  "language_info": {
   "codemirror_mode": {
    "name": "ipython",
    "version": 3
   },
   "file_extension": ".py",
   "mimetype": "text/x-python",
   "name": "python",
   "nbconvert_exporter": "python",
   "pygments_lexer": "ipython3",
   "version": "3.11.5"
  }
 },
 "nbformat": 4,
 "nbformat_minor": 5
}
